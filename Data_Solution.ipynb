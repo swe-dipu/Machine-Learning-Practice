{
 "cells": [
  {
   "cell_type": "code",
   "execution_count": 2,
   "id": "bf792095-2a76-4ed4-a014-2076207e1564",
   "metadata": {},
   "outputs": [],
   "source": [
    "import numpy as np\n",
    "import pandas as pd\n",
    "import matplotlib.pyplot as plt\n",
    "import seaborn as sns"
   ]
  },
  {
   "cell_type": "code",
   "execution_count": 3,
   "id": "5621bcb5-9664-4d69-8353-c2f4070561b9",
   "metadata": {},
   "outputs": [
    {
     "data": {
      "text/html": [
       "<div>\n",
       "<style scoped>\n",
       "    .dataframe tbody tr th:only-of-type {\n",
       "        vertical-align: middle;\n",
       "    }\n",
       "\n",
       "    .dataframe tbody tr th {\n",
       "        vertical-align: top;\n",
       "    }\n",
       "\n",
       "    .dataframe thead th {\n",
       "        text-align: right;\n",
       "    }\n",
       "</style>\n",
       "<table border=\"1\" class=\"dataframe\">\n",
       "  <thead>\n",
       "    <tr style=\"text-align: right;\">\n",
       "      <th></th>\n",
       "      <th>Transaction_ID</th>\n",
       "      <th>Date</th>\n",
       "      <th>Customer_Name</th>\n",
       "      <th>Total_Items</th>\n",
       "      <th>Amount($)</th>\n",
       "      <th>Payment_Method</th>\n",
       "      <th>City</th>\n",
       "      <th>Store_Type</th>\n",
       "      <th>Discount_Applied</th>\n",
       "      <th>Customer_Category</th>\n",
       "      <th>Season</th>\n",
       "      <th>Promotion</th>\n",
       "    </tr>\n",
       "  </thead>\n",
       "  <tbody>\n",
       "    <tr>\n",
       "      <th>0</th>\n",
       "      <td>1000667075</td>\n",
       "      <td>2022-09-12 17:40:23</td>\n",
       "      <td>David King</td>\n",
       "      <td>5</td>\n",
       "      <td>30.98</td>\n",
       "      <td>Debit Card</td>\n",
       "      <td>Chicago</td>\n",
       "      <td>Warehouse Club</td>\n",
       "      <td>True</td>\n",
       "      <td>Teenager</td>\n",
       "      <td>Fall</td>\n",
       "      <td>BOGO (Buy One Get One)</td>\n",
       "    </tr>\n",
       "    <tr>\n",
       "      <th>1</th>\n",
       "      <td>1000156022</td>\n",
       "      <td>2022-01-20 23:03:20</td>\n",
       "      <td>Michael Williamson</td>\n",
       "      <td>3</td>\n",
       "      <td>23.29</td>\n",
       "      <td>Credit Card</td>\n",
       "      <td>Boston</td>\n",
       "      <td>Warehouse Club</td>\n",
       "      <td>True</td>\n",
       "      <td>Homemaker</td>\n",
       "      <td>Winter</td>\n",
       "      <td>Discount on Selected Items</td>\n",
       "    </tr>\n",
       "    <tr>\n",
       "      <th>2</th>\n",
       "      <td>1000681674</td>\n",
       "      <td>2022-10-15 07:49:59</td>\n",
       "      <td>Chelsea Garza</td>\n",
       "      <td>7</td>\n",
       "      <td>25.62</td>\n",
       "      <td>Debit Card</td>\n",
       "      <td>Chicago</td>\n",
       "      <td>Pharmacy</td>\n",
       "      <td>False</td>\n",
       "      <td>Teenager</td>\n",
       "      <td>Fall</td>\n",
       "      <td>Discount on Selected Items</td>\n",
       "    </tr>\n",
       "    <tr>\n",
       "      <th>3</th>\n",
       "      <td>1000692089</td>\n",
       "      <td>2024-04-05 09:39:58</td>\n",
       "      <td>Scott Lopez</td>\n",
       "      <td>5</td>\n",
       "      <td>14.64</td>\n",
       "      <td>Mobile Payment</td>\n",
       "      <td>Atlanta</td>\n",
       "      <td>Pharmacy</td>\n",
       "      <td>False</td>\n",
       "      <td>Homemaker</td>\n",
       "      <td>Summer</td>\n",
       "      <td>Discount on Selected Items</td>\n",
       "    </tr>\n",
       "    <tr>\n",
       "      <th>4</th>\n",
       "      <td>1000328702</td>\n",
       "      <td>2021-05-28 04:16:54</td>\n",
       "      <td>Crystal Adams</td>\n",
       "      <td>4</td>\n",
       "      <td>62.27</td>\n",
       "      <td>Credit Card</td>\n",
       "      <td>Miami</td>\n",
       "      <td>Convenience Store</td>\n",
       "      <td>False</td>\n",
       "      <td>Retiree</td>\n",
       "      <td>Summer</td>\n",
       "      <td>NaN</td>\n",
       "    </tr>\n",
       "  </tbody>\n",
       "</table>\n",
       "</div>"
      ],
      "text/plain": [
       "   Transaction_ID                 Date       Customer_Name  Total_Items  \\\n",
       "0      1000667075  2022-09-12 17:40:23          David King            5   \n",
       "1      1000156022  2022-01-20 23:03:20  Michael Williamson            3   \n",
       "2      1000681674  2022-10-15 07:49:59       Chelsea Garza            7   \n",
       "3      1000692089  2024-04-05 09:39:58         Scott Lopez            5   \n",
       "4      1000328702  2021-05-28 04:16:54       Crystal Adams            4   \n",
       "\n",
       "   Amount($)  Payment_Method     City         Store_Type  Discount_Applied  \\\n",
       "0      30.98      Debit Card  Chicago     Warehouse Club              True   \n",
       "1      23.29     Credit Card   Boston     Warehouse Club              True   \n",
       "2      25.62      Debit Card  Chicago           Pharmacy             False   \n",
       "3      14.64  Mobile Payment  Atlanta           Pharmacy             False   \n",
       "4      62.27     Credit Card    Miami  Convenience Store             False   \n",
       "\n",
       "  Customer_Category  Season                   Promotion  \n",
       "0          Teenager    Fall      BOGO (Buy One Get One)  \n",
       "1         Homemaker  Winter  Discount on Selected Items  \n",
       "2          Teenager    Fall  Discount on Selected Items  \n",
       "3         Homemaker  Summer  Discount on Selected Items  \n",
       "4           Retiree  Summer                         NaN  "
      ]
     },
     "execution_count": 3,
     "metadata": {},
     "output_type": "execute_result"
    }
   ],
   "source": [
    "df = pd.read_csv('transactions.csv')\n",
    "df.head()"
   ]
  },
  {
   "cell_type": "code",
   "execution_count": 4,
   "id": "98d8bc69-c60a-4301-a3a0-adcb55deeb2f",
   "metadata": {},
   "outputs": [
    {
     "data": {
      "text/plain": [
       "(38500, 12)"
      ]
     },
     "execution_count": 4,
     "metadata": {},
     "output_type": "execute_result"
    }
   ],
   "source": [
    "df.shape"
   ]
  },
  {
   "cell_type": "code",
   "execution_count": 16,
   "id": "b9556f0b-178e-4492-a540-bea9af02e791",
   "metadata": {},
   "outputs": [
    {
     "data": {
      "image/png": "[encoded data removed]",
      "text/plain": [
       "<Figure size 1200x600 with 1 Axes>"
      ]
     },
     "metadata": {},
     "output_type": "display_data"
    }
   ],
   "source": [
    "plt.figure(figsize=(12,6))\n",
    "\n",
    "sns.barplot(y = df['Amount($)'],x = df['Store_Type',], palette= 'viridis')\n",
    "plt.show()"
   ]
  },
  {
   "cell_type": "code",
   "execution_count": 12,
   "id": "d79f41d6-226b-4ae0-b3d3-59aa21173b0e",
   "metadata": {},
   "outputs": [
    {
     "data": {
      "text/plain": [
       "array(['Warehouse Club', 'Pharmacy', 'Convenience Store', 'Supermarket',\n",
       "       'Department Store', 'Specialty Store'], dtype=object)"
      ]
     },
     "execution_count": 12,
     "metadata": {},
     "output_type": "execute_result"
    }
   ],
   "source": [
    "df['Store_Type'].unique()"
   ]
  },
  {
   "cell_type": "code",
   "execution_count": 17,
   "id": "0d122a4c-aada-4fdd-b2e8-45d240f13004",
   "metadata": {},
   "outputs": [],
   "source": [
    "Average_mean_of_Storetype = df.groupby(['Store_Type','Season'])['Amount($)'].mean()"
   ]
  },
  {
   "cell_type": "code",
   "execution_count": 18,
   "id": "8976c5d2-2848-4d0a-8d4d-32b5d61895ec",
   "metadata": {},
   "outputs": [
    {
     "data": {
      "text/plain": [
       "Store_Type         Season\n",
       "Convenience Store  Fall      52.872504\n",
       "                   Spring    53.537230\n",
       "                   Summer    53.345305\n",
       "                   Winter    51.595034\n",
       "Department Store   Fall      51.384757\n",
       "                   Spring    52.573781\n",
       "                   Summer    52.782716\n",
       "                   Winter    52.575652\n",
       "Pharmacy           Fall      52.363508\n",
       "                   Spring    52.458672\n",
       "                   Summer    52.049365\n",
       "                   Winter    53.218725\n",
       "Specialty Store    Fall      51.823011\n",
       "                   Spring    53.524048\n",
       "                   Summer    53.594788\n",
       "                   Winter    51.782338\n",
       "Supermarket        Fall      52.285728\n",
       "                   Spring    52.691298\n",
       "                   Summer    51.443950\n",
       "                   Winter    52.640624\n",
       "Warehouse Club     Fall      52.027853\n",
       "                   Spring    51.597471\n",
       "                   Summer    53.009120\n",
       "                   Winter    51.818594\n",
       "Name: Amount($), dtype: float64"
      ]
     },
     "execution_count": 18,
     "metadata": {},
     "output_type": "execute_result"
    }
   ],
   "source": [
    "Average_mean_of_Storetype"
   ]
  },
  {
   "cell_type": "code",
   "execution_count": null,
   "id": "7dfd6213-7c01-463b-99ca-a6f0f8f5d586",
   "metadata": {},
   "outputs": [],
   "source": []
  },
  {
   "cell_type": "code",
   "execution_count": null,
   "id": "e27a3d3c-6fbb-48f6-8738-161d66c182a0",
   "metadata": {},
   "outputs": [],
   "source": []
  }
 ],
 "metadata": {
  "kernelspec": {
   "display_name": "Python 3 (ipykernel)",
   "language": "python",
   "name": "python3"
  },
  "language_info": {
   "codemirror_mode": {
    "name": "ipython",
    "version": 3
   },
   "file_extension": ".py",
   "mimetype": "text/x-python",
   "name": "python",
   "nbconvert_exporter": "python",
   "pygments_lexer": "ipython3",
   "version": "3.11.7"
  }
 },
 "nbformat": 4,
 "nbformat_minor": 5
}
