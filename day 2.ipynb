{
 "cells": [
  {
   "cell_type": "code",
   "execution_count": 12,
   "id": "5f99d1ab-dbf7-4fa9-a25a-9df665ce17ad",
   "metadata": {},
   "outputs": [],
   "source": [
    "##Dictionary"
   ]
  },
  {
   "cell_type": "code",
   "execution_count": 1,
   "id": "193629bf-89ee-4a83-8913-220f0e0179d0",
   "metadata": {},
   "outputs": [],
   "source": [
    "my_dict={\"Car1\": \"Audi\",\"Car2\": \"BMW\",\"Car3\": \"MBenZ\"}"
   ]
  },
  {
   "cell_type": "code",
   "execution_count": 3,
   "id": "5d23f43e-75b4-487f-86ed-ad42850a7954",
   "metadata": {},
   "outputs": [
    {
     "data": {
      "text/plain": [
       "dict"
      ]
     },
     "execution_count": 3,
     "metadata": {},
     "output_type": "execute_result"
    }
   ],
   "source": [
    "type(my_dict)"
   ]
  },
  {
   "cell_type": "code",
   "execution_count": 4,
   "id": "3fb2be5e-c868-40d2-9bd4-947b7a46be18",
   "metadata": {},
   "outputs": [
    {
     "data": {
      "text/plain": [
       "'Audi'"
      ]
     },
     "execution_count": 4,
     "metadata": {},
     "output_type": "execute_result"
    }
   ],
   "source": [
    "my_dict['Car1']"
   ]
  },
  {
   "cell_type": "code",
   "execution_count": 5,
   "id": "12300259-42d1-4b51-8c46-b18b62162c3e",
   "metadata": {},
   "outputs": [
    {
     "name": "stdout",
     "output_type": "stream",
     "text": [
      "Car1\n",
      "Car2\n",
      "Car3\n"
     ]
    }
   ],
   "source": [
    "for x in my_dict:\n",
    "    print(x)"
   ]
  },
  {
   "cell_type": "code",
   "execution_count": 7,
   "id": "5b366ca5-b6c8-4175-89d2-ed6a51dfce3c",
   "metadata": {},
   "outputs": [
    {
     "name": "stdout",
     "output_type": "stream",
     "text": [
      "Audi\n",
      "BMW\n",
      "MBenZ\n"
     ]
    }
   ],
   "source": [
    "for x in my_dict.values():\n",
    "    print(x)"
   ]
  },
  {
   "cell_type": "code",
   "execution_count": 8,
   "id": "a72c6208-5427-47ce-91e0-3c7f24d086fd",
   "metadata": {},
   "outputs": [
    {
     "name": "stdout",
     "output_type": "stream",
     "text": [
      "('Car1', 'Audi')\n",
      "('Car2', 'BMW')\n",
      "('Car3', 'MBenZ')\n"
     ]
    }
   ],
   "source": [
    "for x in my_dict.items():\n",
    "    print(x)"
   ]
  },
  {
   "cell_type": "code",
   "execution_count": 9,
   "id": "b0fbdc4e-3c43-4b3d-8e55-1888001ed077",
   "metadata": {},
   "outputs": [],
   "source": [
    "my_dict['Car4']='Audi 2.0'"
   ]
  },
  {
   "cell_type": "code",
   "execution_count": 10,
   "id": "cc5556e2-ac71-4bab-ace5-0259a163a802",
   "metadata": {},
   "outputs": [
    {
     "data": {
      "text/plain": [
       "{'Car1': 'Audi', 'Car2': 'BMW', 'Car3': 'MBenZ', 'Car4': 'Audi 2.0'}"
      ]
     },
     "execution_count": 10,
     "metadata": {},
     "output_type": "execute_result"
    }
   ],
   "source": [
    "my_dict"
   ]
  },
  {
   "cell_type": "code",
   "execution_count": 11,
   "id": "37be5d6b-dc13-46ce-ade8-6203ffb9f6f8",
   "metadata": {},
   "outputs": [],
   "source": [
    "## Nested Dictionary"
   ]
  },
  {
   "cell_type": "code",
   "execution_count": 13,
   "id": "22d3ece8-bcac-41a7-8fac-997a10cb9342",
   "metadata": {},
   "outputs": [],
   "source": [
    "car1_model={'Audi': 1999}\n",
    "car2_model={'BMW': 1970}\n",
    "car3_model={'Toyata': 1980}\n",
    "\n",
    "car_type={'car1':car1_model,'car2':car2_model,'car3':car3_model}"
   ]
  },
  {
   "cell_type": "code",
   "execution_count": 14,
   "id": "ef97c4d5-de02-4ea3-8fb7-f0f77855d741",
   "metadata": {},
   "outputs": [
    {
     "name": "stdout",
     "output_type": "stream",
     "text": [
      "{'car1': {'Audi': 1999}, 'car2': {'BMW': 1970}, 'car3': {'Toyata': 1980}}\n"
     ]
    }
   ],
   "source": [
    "print(car_type)"
   ]
  },
  {
   "cell_type": "code",
   "execution_count": 15,
   "id": "d8dc2a85-18ac-4403-8407-df6863fd08f9",
   "metadata": {},
   "outputs": [
    {
     "data": {
      "text/plain": [
       "dict"
      ]
     },
     "execution_count": 15,
     "metadata": {},
     "output_type": "execute_result"
    }
   ],
   "source": [
    "type(car_type)"
   ]
  },
  {
   "cell_type": "code",
   "execution_count": 16,
   "id": "453d16d9-4e5e-4101-b940-5156c44ba62a",
   "metadata": {},
   "outputs": [
    {
     "name": "stdout",
     "output_type": "stream",
     "text": [
      "{'Audi': 1999}\n"
     ]
    }
   ],
   "source": [
    "print(car_type['car1'])"
   ]
  },
  {
   "cell_type": "code",
   "execution_count": 17,
   "id": "9c9686c7-e920-421a-b947-dbb5be6dc3ae",
   "metadata": {},
   "outputs": [
    {
     "name": "stdout",
     "output_type": "stream",
     "text": [
      "1999\n"
     ]
    }
   ],
   "source": [
    "print(car_type['car1']['Audi'])"
   ]
  },
  {
   "cell_type": "code",
   "execution_count": 18,
   "id": "237cc33b-09ca-4aee-9f15-3605f4902ad6",
   "metadata": {},
   "outputs": [],
   "source": [
    "##Tuples"
   ]
  },
  {
   "cell_type": "code",
   "execution_count": null,
   "id": "ecf123d9-7e78-49ec-b663-4ecd3b14e1df",
   "metadata": {},
   "outputs": [],
   "source": [
    "##Once a tuple is created, its elements cannot be changed,added or removed.\n",
    "my_tuple=(1,2,3\"Hello\",4.5)"
   ]
  }
 ],
 "metadata": {
  "kernelspec": {
   "display_name": "Python 3 (ipykernel)",
   "language": "python",
   "name": "python3"
  },
  "language_info": {
   "codemirror_mode": {
    "name": "ipython",
    "version": 3
   },
   "file_extension": ".py",
   "mimetype": "text/x-python",
   "name": "python",
   "nbconvert_exporter": "python",
   "pygments_lexer": "ipython3",
   "version": "3.11.7"
  }
 },
 "nbformat": 4,
 "nbformat_minor": 5
}
