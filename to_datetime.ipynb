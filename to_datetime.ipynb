{
 "cells": [
  {
   "cell_type": "code",
   "execution_count": 2,
   "id": "f47dec5b-c582-4543-9251-3d6e272454b1",
   "metadata": {},
   "outputs": [
    {
     "data": {
      "text/plain": [
       "DatetimeIndex(['2017-01-05', '2017-01-05', '2017-01-05', '2017-01-05',\n",
       "               '2017-01-05', '2017-01-05'],\n",
       "              dtype='datetime64[ns]', freq=None)"
      ]
     },
     "execution_count": 2,
     "metadata": {},
     "output_type": "execute_result"
    }
   ],
   "source": [
    "import pandas as pd\n",
    "dates = ['2017-01-05', 'Jan 5, 2017', '01/05/2017', '2017.01.05', '2017/01/05', '20170105']\n",
    "pd.to_datetime(dates, format=\"mixed\") #mixed used for to handle different type of date"
   ]
  },
  {
   "cell_type": "code",
   "execution_count": 4,
   "id": "5b873499-abfe-4646-b757-637e3e2bd943",
   "metadata": {},
   "outputs": [
    {
     "data": {
      "text/plain": [
       "Timestamp('2025-01-05 00:00:00')"
      ]
     },
     "execution_count": 4,
     "metadata": {},
     "output_type": "execute_result"
    }
   ],
   "source": [
    "pd.to_datetime('5$1$2025', format=\"%d$%m$%Y\") #custom date time"
   ]
  },
  {
   "cell_type": "code",
   "execution_count": 7,
   "id": "e7904764-6c5f-4651-acc7-e64242cd5af6",
   "metadata": {},
   "outputs": [
    {
     "data": {
      "text/plain": [
       "Index(['2017-01-05', 'Jan 5, 2017', '01/05/2017', 'abc'], dtype='object')"
      ]
     },
     "execution_count": 7,
     "metadata": {},
     "output_type": "execute_result"
    }
   ],
   "source": [
    "dates = ['2017-01-05', 'Jan 5, 2017', '01/05/2017', 'abc'] # to remove garbage value use errors method\n",
    "pd.to_datetime(dates, format=\"mixed\", errors='ignore')"
   ]
  },
  {
   "cell_type": "code",
   "execution_count": 10,
   "id": "9fc127c6-ace5-41f6-9c13-24c32dc3b1cd",
   "metadata": {},
   "outputs": [
    {
     "data": {
      "text/plain": [
       "DatetimeIndex(['2024-11-01 21:37:01'], dtype='datetime64[ns]', freq=None)"
      ]
     },
     "execution_count": 10,
     "metadata": {},
     "output_type": "execute_result"
    }
   ],
   "source": [
    "t = 1730497021  #epoch time converter\n",
    "dt = pd.to_datetime([t], unit = 's')\n",
    "dt"
   ]
  },
  {
   "cell_type": "code",
   "execution_count": 15,
   "id": "b945cbe3-ec08-441d-90c4-a5a1fb0f1853",
   "metadata": {},
   "outputs": [
    {
     "data": {
      "text/plain": [
       "array([1730497021000000000], dtype=int64)"
      ]
     },
     "execution_count": 15,
     "metadata": {},
     "output_type": "execute_result"
    }
   ],
   "source": [
    " dt.view('int64')"
   ]
  },
  {
   "cell_type": "code",
   "execution_count": null,
   "id": "50158ccc-e479-4ac6-8780-5e7ba22c4178",
   "metadata": {},
   "outputs": [],
   "source": []
  }
 ],
 "metadata": {
  "kernelspec": {
   "display_name": "Python 3 (ipykernel)",
   "language": "python",
   "name": "python3"
  },
  "language_info": {
   "codemirror_mode": {
    "name": "ipython",
    "version": 3
   },
   "file_extension": ".py",
   "mimetype": "text/x-python",
   "name": "python",
   "nbconvert_exporter": "python",
   "pygments_lexer": "ipython3",
   "version": "3.11.7"
  }
 },
 "nbformat": 4,
 "nbformat_minor": 5
}
