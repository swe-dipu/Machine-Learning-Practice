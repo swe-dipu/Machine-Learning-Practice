{
 "cells": [
  {
   "cell_type": "code",
   "execution_count": 2,
   "id": "67f5f7df-da48-4400-8f4a-697119a6ab15",
   "metadata": {},
   "outputs": [],
   "source": [
    "a = 10\n",
    "b = 20"
   ]
  },
  {
   "cell_type": "code",
   "execution_count": 4,
   "id": "0850a8f5-ca0e-4881-b339-2ae50b1442f0",
   "metadata": {},
   "outputs": [
    {
     "name": "stdout",
     "output_type": "stream",
     "text": [
      "30\n",
      "-10\n",
      "200\n",
      "0.5\n"
     ]
    }
   ],
   "source": [
    "print(a+b)\n",
    "print(a-b)\n",
    "print(a*b)\n",
    "print(a/b)"
   ]
  },
  {
   "cell_type": "code",
   "execution_count": 10,
   "id": "758786a6-ce5f-4681-a281-054a54ae50e7",
   "metadata": {},
   "outputs": [
    {
     "name": "stdout",
     "output_type": "stream",
     "text": [
      "My name is Dipu and Ghosh\n"
     ]
    }
   ],
   "source": [
    "first_name = 'Dipu'\n",
    "last_name = 'Ghosh'\n"
   ]
  },
  {
   "cell_type": "code",
   "execution_count": 12,
   "id": "d7ead56a-9c08-4719-9f50-450428338792",
   "metadata": {},
   "outputs": [
    {
     "name": "stdout",
     "output_type": "stream",
     "text": [
      "My name is Dipu Ghosh\n"
     ]
    }
   ],
   "source": [
    "print(\"My name is {} {}\".format(first_name,last_name))"
   ]
  },
  {
   "cell_type": "code",
   "execution_count": 13,
   "id": "e0686624-4cd1-4481-9dc0-4479de8713ce",
   "metadata": {},
   "outputs": [
    {
     "data": {
      "text/plain": [
       "4"
      ]
     },
     "execution_count": 13,
     "metadata": {},
     "output_type": "execute_result"
    }
   ],
   "source": [
    "len('Dipu')"
   ]
  },
  {
   "cell_type": "code",
   "execution_count": 14,
   "id": "dd3b3f30-9c2d-47c7-9d60-e2d523b0b2a2",
   "metadata": {},
   "outputs": [],
   "source": [
    "myname='Dipu'"
   ]
  },
  {
   "cell_type": "code",
   "execution_count": 15,
   "id": "53e094f2-0f30-499c-831d-3a48ee84fb11",
   "metadata": {},
   "outputs": [
    {
     "name": "stdout",
     "output_type": "stream",
     "text": [
      "True\n"
     ]
    }
   ],
   "source": [
    "print(myname.isalnum())"
   ]
  },
  {
   "cell_type": "code",
   "execution_count": 16,
   "id": "391a0848-09cb-4781-b43f-f4a7ffcb3f2b",
   "metadata": {},
   "outputs": [
    {
     "name": "stdout",
     "output_type": "stream",
     "text": [
      "True\n"
     ]
    }
   ],
   "source": [
    "print(myname.startswith('D'))"
   ]
  },
  {
   "cell_type": "code",
   "execution_count": 18,
   "id": "cc43c15b-77e9-468b-899f-7fcd7da782dc",
   "metadata": {},
   "outputs": [],
   "source": [
    "##List"
   ]
  },
  {
   "cell_type": "code",
   "execution_count": 19,
   "id": "a4bf843b-d647-499a-9083-4fce89c0f1b2",
   "metadata": {},
   "outputs": [],
   "source": [
    "lst=list()"
   ]
  },
  {
   "cell_type": "code",
   "execution_count": 20,
   "id": "2ce6fa42-0efe-4b93-8aaa-d1a03460eb77",
   "metadata": {},
   "outputs": [
    {
     "data": {
      "text/plain": [
       "list"
      ]
     },
     "execution_count": 20,
     "metadata": {},
     "output_type": "execute_result"
    }
   ],
   "source": [
    "type(lst)"
   ]
  },
  {
   "cell_type": "code",
   "execution_count": 21,
   "id": "ea43a705-083b-4156-9928-2bd05ad4a169",
   "metadata": {},
   "outputs": [],
   "source": [
    "lst=['Math','Eng',100,200,300,400]"
   ]
  },
  {
   "cell_type": "code",
   "execution_count": 22,
   "id": "761848fa-1f85-4f53-bc06-55782adf85fa",
   "metadata": {},
   "outputs": [],
   "source": [
    "##Append"
   ]
  },
  {
   "cell_type": "code",
   "execution_count": 23,
   "id": "cb5aead5-6c83-4dcd-b883-5e69771e2f88",
   "metadata": {},
   "outputs": [],
   "source": [
    "lst.append(\"GKD\")"
   ]
  },
  {
   "cell_type": "code",
   "execution_count": 24,
   "id": "f45486e1-3578-4a88-a8eb-05e420b6631b",
   "metadata": {},
   "outputs": [
    {
     "data": {
      "text/plain": [
       "['Math', 'Eng', 100, 200, 300, 400, 'GKD']"
      ]
     },
     "execution_count": 24,
     "metadata": {},
     "output_type": "execute_result"
    }
   ],
   "source": [
    "lst"
   ]
  },
  {
   "cell_type": "code",
   "execution_count": 27,
   "id": "7c61f5b1-d437-418d-b03b-04aef05e6f8c",
   "metadata": {},
   "outputs": [
    {
     "data": {
      "text/plain": [
       "200"
      ]
     },
     "execution_count": 27,
     "metadata": {},
     "output_type": "execute_result"
    }
   ],
   "source": [
    "lst[3]"
   ]
  },
  {
   "cell_type": "code",
   "execution_count": 28,
   "id": "21604506-21dd-49c4-ab33-60a6da5006a2",
   "metadata": {},
   "outputs": [
    {
     "data": {
      "text/plain": [
       "['Eng', 100, 200]"
      ]
     },
     "execution_count": 28,
     "metadata": {},
     "output_type": "execute_result"
    }
   ],
   "source": [
    "lst[1:4]"
   ]
  },
  {
   "cell_type": "code",
   "execution_count": null,
   "id": "f9cc6aa5-88f2-4fec-92a9-019670532eb6",
   "metadata": {},
   "outputs": [],
   "source": []
  }
 ],
 "metadata": {
  "kernelspec": {
   "display_name": "Python 3 (ipykernel)",
   "language": "python",
   "name": "python3"
  },
  "language_info": {
   "codemirror_mode": {
    "name": "ipython",
    "version": 3
   },
   "file_extension": ".py",
   "mimetype": "text/x-python",
   "name": "python",
   "nbconvert_exporter": "python",
   "pygments_lexer": "ipython3",
   "version": "3.11.7"
  }
 },
 "nbformat": 4,
 "nbformat_minor": 5
}
