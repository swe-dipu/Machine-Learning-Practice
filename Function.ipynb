{
 "cells": [
  {
   "cell_type": "code",
   "execution_count": 4,
   "id": "2c1f4b3c-7d1a-466e-9e28-636015405240",
   "metadata": {},
   "outputs": [
    {
     "name": "stdout",
     "output_type": "stream",
     "text": [
      "The Number is even\n"
     ]
    }
   ],
   "source": [
    " num=24\n",
    "if num%2==0:\n",
    "    print(\"The Number is even\")\n",
    "else:\n",
    "    print(\"The Number is odd\")"
   ]
  },
  {
   "cell_type": "code",
   "execution_count": 6,
   "id": "032191d8-0de3-431e-9038-e6b5ce916a97",
   "metadata": {},
   "outputs": [],
   "source": [
    "def even_odd(num):\n",
    "    if num%2==0:\n",
    "        print(\"The Number is even\")\n",
    "    else:\n",
    "        print(\"The Number is odd\")"
   ]
  },
  {
   "cell_type": "code",
   "execution_count": 7,
   "id": "0acd86ce-81e2-429f-a320-7ba7b00883c3",
   "metadata": {},
   "outputs": [
    {
     "name": "stdout",
     "output_type": "stream",
     "text": [
      "The Number is odd\n"
     ]
    }
   ],
   "source": [
    "even_odd(31)"
   ]
  },
  {
   "cell_type": "code",
   "execution_count": 8,
   "id": "264f4194-5248-4bea-a0df-82cc4dad0d23",
   "metadata": {},
   "outputs": [
    {
     "name": "stdin",
     "output_type": "stream",
     "text": [
      "Enter your name:  Dipu Ghosh\n"
     ]
    }
   ],
   "source": [
    "name=input(\"Enter your name: \")"
   ]
  },
  {
   "cell_type": "code",
   "execution_count": 9,
   "id": "4e554e59-1406-4100-a460-4e835739e1f5",
   "metadata": {},
   "outputs": [],
   "source": [
    "def hello():\n",
    "    print(\"Hello world\")"
   ]
  },
  {
   "cell_type": "code",
   "execution_count": 10,
   "id": "9ca57f86-60f8-4c89-b80b-5087dd0bc913",
   "metadata": {},
   "outputs": [
    {
     "name": "stdout",
     "output_type": "stream",
     "text": [
      "Hello world\n"
     ]
    }
   ],
   "source": [
    "hello()"
   ]
  },
  {
   "cell_type": "code",
   "execution_count": 11,
   "id": "e3fc6424-57ae-468a-b4f8-dc06644d7cd2",
   "metadata": {},
   "outputs": [],
   "source": [
    "def hello():\n",
    "    return \"Hii myself Dipu\""
   ]
  },
  {
   "cell_type": "code",
   "execution_count": 12,
   "id": "027d7c20-295a-4b5c-a3a4-f3d98a755618",
   "metadata": {},
   "outputs": [
    {
     "data": {
      "text/plain": [
       "'Hii myself Dipu'"
      ]
     },
     "execution_count": 12,
     "metadata": {},
     "output_type": "execute_result"
    }
   ],
   "source": [
    "hello()"
   ]
  },
  {
   "cell_type": "code",
   "execution_count": 13,
   "id": "28f454dd-a038-4069-a69c-e892b362ed58",
   "metadata": {},
   "outputs": [],
   "source": [
    "def addnumber(num1,num2):\n",
    "    return num1+num2"
   ]
  },
  {
   "cell_type": "code",
   "execution_count": 15,
   "id": "a331a48a-bdab-4db9-babc-d6da897d704e",
   "metadata": {},
   "outputs": [],
   "source": [
    "val=addnumber(5,7)"
   ]
  },
  {
   "cell_type": "code",
   "execution_count": 16,
   "id": "e9cd7ee1-64d9-4caf-bb22-0ab0baf1150b",
   "metadata": {},
   "outputs": [
    {
     "data": {
      "text/plain": [
       "12"
      ]
     },
     "execution_count": 16,
     "metadata": {},
     "output_type": "execute_result"
    }
   ],
   "source": [
    "val"
   ]
  },
  {
   "cell_type": "code",
   "execution_count": 19,
   "id": "a4288e83-90f2-402c-b4bf-eba94a56b394",
   "metadata": {},
   "outputs": [],
   "source": [
    "def hello(name,age):\n",
    "    print(\"My name is {} and age {}\".format(name,age))\n",
    "    "
   ]
  },
  {
   "cell_type": "code",
   "execution_count": 22,
   "id": "6aff2568-a1e7-4ffb-b03a-5d7d92400dc8",
   "metadata": {},
   "outputs": [
    {
     "name": "stdout",
     "output_type": "stream",
     "text": [
      "My name is Dipu and age 25\n"
     ]
    }
   ],
   "source": [
    "hello('Dipu',25)"
   ]
  },
  {
   "cell_type": "code",
   "execution_count": 29,
   "id": "07692106-e57e-45e8-88aa-c89d55e71da1",
   "metadata": {},
   "outputs": [],
   "source": [
    "lst=[1,2,3,4,5,6,7]"
   ]
  },
  {
   "cell_type": "code",
   "execution_count": 34,
   "id": "a6d84097-ec0d-4e0e-bd8d-8f2b05fba6b5",
   "metadata": {},
   "outputs": [],
   "source": [
    "def evenoddsum(lst):\n",
    "    even_sum=0\n",
    "    odd_sum=0\n",
    "    for i in lst:\n",
    "        if i%2==0:\n",
    "           even_sum=even_sum+i\n",
    "        else:\n",
    "            odd_sum=odd_sum+i\n",
    "    return even_sum,odd_sum"
   ]
  },
  {
   "cell_type": "code",
   "execution_count": 35,
   "id": "81e25d9d-fce3-47ad-adbe-287686da0904",
   "metadata": {},
   "outputs": [
    {
     "data": {
      "text/plain": [
       "(12, 16)"
      ]
     },
     "execution_count": 35,
     "metadata": {},
     "output_type": "execute_result"
    }
   ],
   "source": [
    "evenoddsum(lst)"
   ]
  },
  {
   "cell_type": "code",
   "execution_count": 36,
   "id": "e5689730-5dba-4369-9d55-6674811f9547",
   "metadata": {},
   "outputs": [],
   "source": [
    "def even_or_odd(num):\n",
    "    if num%2==0:\n",
    "        return \"The number {} is even\".format(num)\n",
    "    else:\n",
    "        return \"The number {} is odd\".format(num)"
   ]
  },
  {
   "cell_type": "code",
   "execution_count": 37,
   "id": "64adaba3-05aa-4020-b0c8-b9c306d2ea96",
   "metadata": {},
   "outputs": [
    {
     "data": {
      "text/plain": [
       "'The number 20 is even'"
      ]
     },
     "execution_count": 37,
     "metadata": {},
     "output_type": "execute_result"
    }
   ],
   "source": [
    "even_or_odd(20)"
   ]
  },
  {
   "cell_type": "code",
   "execution_count": 50,
   "id": "78e787b1-5909-4811-beab-e26298d855f8",
   "metadata": {},
   "outputs": [],
   "source": [
    "lst=[12,13,24,26,31,35,87]"
   ]
  },
  {
   "cell_type": "code",
   "execution_count": 52,
   "id": "ad24b83f-81f1-4c30-9243-f37f590bbfd3",
   "metadata": {},
   "outputs": [
    {
     "ename": "TypeError",
     "evalue": "'list' object is not callable",
     "output_type": "error",
     "traceback": [
      "\u001b[1;31m---------------------------------------------------------------------------\u001b[0m",
      "\u001b[1;31mTypeError\u001b[0m                                 Traceback (most recent call last)",
      "Cell \u001b[1;32mIn[52], line 1\u001b[0m\n\u001b[1;32m----> 1\u001b[0m \u001b[38;5;28mlist\u001b[39m(\u001b[38;5;28mmap\u001b[39m(even_or_odd,lst))\n",
      "\u001b[1;31mTypeError\u001b[0m: 'list' object is not callable"
     ]
    }
   ],
   "source": [
    "list(map(even_or_odd,lst))"
   ]
  },
  {
   "cell_type": "code",
   "execution_count": null,
   "id": "91d75c13-7d25-4458-b8bd-a4aee103f107",
   "metadata": {},
   "outputs": [],
   "source": []
  }
 ],
 "metadata": {
  "kernelspec": {
   "display_name": "Python 3 (ipykernel)",
   "language": "python",
   "name": "python3"
  },
  "language_info": {
   "codemirror_mode": {
    "name": "ipython",
    "version": 3
   },
   "file_extension": ".py",
   "mimetype": "text/x-python",
   "name": "python",
   "nbconvert_exporter": "python",
   "pygments_lexer": "ipython3",
   "version": "3.11.7"
  }
 },
 "nbformat": 4,
 "nbformat_minor": 5
}
